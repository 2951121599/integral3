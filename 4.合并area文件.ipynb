{
 "cells": [
  {
   "cell_type": "code",
   "execution_count": 7,
   "metadata": {
    "collapsed": true
   },
   "outputs": [],
   "source": [
    "import os\n",
    "import pandas as pd"
   ]
  },
  {
   "cell_type": "code",
   "execution_count": 8,
   "outputs": [
    {
     "name": "stdout",
     "output_type": "stream",
     "text": [
      "filenames---------- ['Q01_C-peak_area.csv', 'Q01_ISBLK-peak_area.csv', 'Q01_N-peak_area.csv', 'Q01_NC10-peak_area.csv', 'Q01_NC20-peak_area.csv', 'Q01_NC30-peak_area.csv', 'Q01_NC40-peak_area.csv', 'Q01_NC50-peak_area.csv', 'Q01_NC75-peak_area.csv', 'Q01_QC_1-peak_area.csv', 'Q01_QC_10-peak_area.csv', 'Q01_QC_11-peak_area.csv', 'Q01_QC_2-peak_area.csv', 'Q01_QC_3-peak_area.csv', 'Q01_QC_4-peak_area.csv', 'Q01_QC_5-peak_area.csv', 'Q01_QC_6-peak_area.csv', 'Q01_QC_7-peak_area.csv', 'Q01_QC_8-peak_area.csv', 'Q01_QC_9-peak_area.csv', 'S01_RD001-peak_area.csv', 'S01_RD002-peak_area.csv', 'S01_RD003-peak_area.csv', 'S01_RD004-peak_area.csv', 'S01_RD005-peak_area.csv', 'S01_RD006-peak_area.csv', 'S01_RD007-peak_area.csv', 'S01_RD008-peak_area.csv', 'S01_RD009-peak_area.csv', 'S01_RD010-peak_area.csv', 'S01_RD011-peak_area.csv', 'S01_RD012-peak_area.csv', 'S01_RD013-peak_area.csv', 'S01_RD014-peak_area.csv', 'S01_RD015-peak_area.csv', 'S01_RD016-peak_area.csv', 'S01_RD017-peak_area.csv', 'S01_RD018-peak_area.csv', 'S01_RD019-peak_area.csv', 'S01_RD020-peak_area.csv', 'S01_RD021-peak_area.csv', 'S01_RD022-peak_area.csv', 'S01_RD023-peak_area.csv', 'S01_RD024-peak_area.csv', 'S01_RD025-peak_area.csv', 'S01_RD026-peak_area.csv', 'S01_RD027-peak_area.csv', 'S01_RD028-peak_area.csv', 'S01_RD029-peak_area.csv', 'S01_RD030-peak_area.csv', 'S01_RD031-peak_area.csv', 'S01_RD032-peak_area.csv', 'S01_RD033-peak_area.csv', 'S01_RD034-peak_area.csv', 'S01_RD035-peak_area.csv', 'S01_RD036-peak_area.csv', 'S01_RD037-peak_area.csv', 'S01_RD038-peak_area.csv', 'S01_RD039-peak_area.csv', 'S01_RD040-peak_area.csv', 'S01_RD041-peak_area.csv', 'S01_RD042-peak_area.csv', 'S01_RD043-peak_area.csv', 'S01_RD044-peak_area.csv', 'S01_RD045-peak_area.csv', 'S01_RD046-peak_area.csv', 'S01_RD047-peak_area.csv', 'S01_RD048-peak_area.csv', 'S01_RD049-peak_area.csv', 'S01_RD050-peak_area.csv', 'S01_RD051-peak_area.csv', 'S01_RD052-peak_area.csv', 'S01_RD053-peak_area.csv', 'S01_RD054-peak_area.csv', 'S01_RD055-peak_area.csv', 'S01_RD056-peak_area.csv', 'S01_RD057-peak_area.csv', 'S01_RD058-peak_area.csv', 'S01_RD059-peak_area.csv', 'S01_RD060-peak_area.csv', 'S01_RD061-peak_area.csv', 'S01_RD062-peak_area.csv', 'S01_RD063-peak_area.csv', 'S01_RD064-peak_area.csv', 'S01_RD065-peak_area.csv', 'S01_RD066-peak_area.csv', 'S01_RD067-peak_area.csv', 'S01_RD068-peak_area.csv', 'S01_RD069-peak_area.csv', 'S01_RD070-peak_area.csv', 'S01_RD071-peak_area.csv', 'S01_RD072-peak_area.csv', 'S01_RD073-peak_area.csv', 'S01_RD074-peak_area.csv', 'S01_RD075-peak_area.csv', 'S01_RD076-peak_area.csv', 'S01_RD077-peak_area.csv', 'S01_RD078-peak_area.csv', 'S01_RD079-peak_area.csv', 'S01_RD080-peak_area.csv', 'S01_RD081-peak_area.csv', 'S01_RD082-peak_area.csv', 'S01_RD083-peak_area.csv', 'S01_RD084-peak_area.csv', 'S01_RD085-peak_area.csv', 'S01_RD086-peak_area.csv', 'S01_RD087-peak_area.csv', 'S01_RD088-peak_area.csv', 'S01_RD089-peak_area.csv', 'S01_RD090-peak_area.csv', 'S01_RD091-peak_area.csv', 'S01_RD092-peak_area.csv', 'S01_RD093-peak_area.csv', 'S01_RD094-peak_area.csv', 'S01_RD095-peak_area.csv', 'S01_RD096-peak_area.csv', 'S01_RD097-peak_area.csv', 'S01_RD098-peak_area.csv', 'S01_RD099-peak_area.csv', 'S01_RD100-peak_area.csv']\n"
     ]
    }
   ],
   "source": [
    "filenames = []\n",
    "for j in os.listdir('./run1_area'):\n",
    "    if os.path.splitext(j)[1] == '.csv':\n",
    "        filenames.append(j)\n",
    "print(\"filenames----------\", filenames)\n",
    "\n",
    "# 读feature\n",
    "# feature = pd.read_csv('./neg_ion_list.csv').sort_values(by='ID').iloc[:, 0]\n",
    "# feature = pd.DataFrame(feature).rename(columns={'ID':'feature'})\n",
    "# print(feature)"
   ],
   "metadata": {
    "collapsed": false,
    "pycharm": {
     "name": "#%%\n"
    }
   }
  },
  {
   "cell_type": "code",
   "execution_count": 9,
   "outputs": [
    {
     "name": "stdout",
     "output_type": "stream",
     "text": [
      "success\n"
     ]
    }
   ],
   "source": [
    "# TODO 按字母顺序排序问题\n",
    "res = None\n",
    "for filename in filenames:\n",
    "    df = pd.read_csv('./run1_area/' + filename)\n",
    "    res = pd.concat([res, df], axis=1)\n",
    "# res = pd.concat([feature, res], axis=1)\n",
    "res.to_csv('all_area.csv', index=False)\n",
    "print(\"success\")"
   ],
   "metadata": {
    "collapsed": false,
    "pycharm": {
     "name": "#%%\n"
    }
   }
  },
  {
   "cell_type": "code",
   "execution_count": 9,
   "outputs": [],
   "source": [
    "\n"
   ],
   "metadata": {
    "collapsed": false,
    "pycharm": {
     "name": "#%%\n"
    }
   }
  }
 ],
 "metadata": {
  "kernelspec": {
   "display_name": "Python 3",
   "language": "python",
   "name": "python3"
  },
  "language_info": {
   "codemirror_mode": {
    "name": "ipython",
    "version": 2
   },
   "file_extension": ".py",
   "mimetype": "text/x-python",
   "name": "python",
   "nbconvert_exporter": "python",
   "pygments_lexer": "ipython2",
   "version": "2.7.6"
  }
 },
 "nbformat": 4,
 "nbformat_minor": 0
}